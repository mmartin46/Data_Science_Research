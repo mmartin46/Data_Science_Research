{
  "nbformat": 4,
  "nbformat_minor": 0,
  "metadata": {
    "colab": {
      "provenance": [],
      "authorship_tag": "ABX9TyMKEHNfqulgSRfIOi6rbaoE",
      "include_colab_link": true
    },
    "kernelspec": {
      "name": "python3",
      "display_name": "Python 3"
    },
    "language_info": {
      "name": "python"
    }
  },
  "cells": [
    {
      "cell_type": "markdown",
      "metadata": {
        "id": "view-in-github",
        "colab_type": "text"
      },
      "source": [
        "<a href=\"https://colab.research.google.com/github/mmartin46/Data_Science_Research/blob/main/CelebTextMining.ipynb\" target=\"_parent\"><img src=\"https://colab.research.google.com/assets/colab-badge.svg\" alt=\"Open In Colab\"/></a>"
      ]
    },
    {
      "cell_type": "code",
      "execution_count": null,
      "metadata": {
        "id": "quhGcoB-e1uR"
      },
      "outputs": [],
      "source": [
        "# Mark 16:16"
      ]
    },
    {
      "cell_type": "code",
      "source": [
        "import pandas as pd\n",
        "import altair as alt\n",
        "from altair import Chart, X, Y, Color, Scale\n",
        "import datetime as dt\n",
        "import matplotlib.pyplot as plt\n",
        "from pandas.core.common import random_state\n",
        "import seaborn as sns\n",
        "from sklearn.linear_model import LinearRegression, LogisticRegression\n",
        "from sklearn.metrics import mean_squared_error, r2_score\n",
        "from sklearn.model_selection import train_test_split\n",
        "from sklearn import preprocessing\n",
        "from sklearn.linear_model import LinearRegression\n",
        "from sklearn.ensemble import RandomForestRegressor\n",
        "import numpy as np\n",
        "from sklearn.model_selection import train_test_split\n",
        "from sklearn.ensemble import HistGradientBoostingRegressor\n",
        "from sklearn.linear_model import LinearRegression\n",
        "from sklearn.pipeline import make_pipeline\n",
        "from sklearn.preprocessing import StandardScaler\n",
        "from sklearn.decomposition import PCA\n",
        "from sklearn.cross_decomposition import PLSRegression\n",
        "import re"
      ],
      "metadata": {
        "id": "LgMBryBJe4qF"
      },
      "execution_count": 1,
      "outputs": []
    },
    {
      "cell_type": "code",
      "source": [
        "df = pd.read_csv('celeb_data.csv')\n",
        "df.sort_values(by=['height'], inplace=True)"
      ],
      "metadata": {
        "id": "nXiHYtbye7AE"
      },
      "execution_count": 2,
      "outputs": []
    },
    {
      "cell_type": "code",
      "source": [
        "heights = []\n",
        "for height in df['height']:\n",
        "  heights.insert(len(heights), re.sub(\"[\\(\\[].*?[\\)\\]]\", \"\", str(height)))\n",
        "\n",
        "df['height'] = heights"
      ],
      "metadata": {
        "id": "LjnjnBBThHTk"
      },
      "execution_count": 3,
      "outputs": []
    },
    {
      "cell_type": "code",
      "source": [
        "df = df[df['height'] != 'nan']\n",
        "df['height'] = df['height'].str.strip()"
      ],
      "metadata": {
        "id": "mTB4ILKJh7BW",
        "colab": {
          "base_uri": "https://localhost:8080/"
        },
        "outputId": "36ea761e-0905-4824-88ba-93d7fcab7299"
      },
      "execution_count": 4,
      "outputs": [
        {
          "output_type": "stream",
          "name": "stderr",
          "text": [
            "<ipython-input-4-76596cf3450f>:2: SettingWithCopyWarning: \n",
            "A value is trying to be set on a copy of a slice from a DataFrame.\n",
            "Try using .loc[row_indexer,col_indexer] = value instead\n",
            "\n",
            "See the caveats in the documentation: https://pandas.pydata.org/pandas-docs/stable/user_guide/indexing.html#returning-a-view-versus-a-copy\n",
            "  df['height'] = df['height'].str.strip()\n"
          ]
        }
      ]
    },
    {
      "cell_type": "code",
      "source": [
        "df['height'] = df['height'].str.replace('½', '.5').str.replace('¼','.25').str.replace('¾', '.75')\n",
        "df['height'] = df['height'].str.replace('′',\"'\")\n",
        "df['height'] = df['height'].str.replace('″','\"')"
      ],
      "metadata": {
        "id": "7zDU6iucUkPp",
        "colab": {
          "base_uri": "https://localhost:8080/"
        },
        "outputId": "d92ba6b3-5746-4599-fe3a-8cb04d97a2e1"
      },
      "execution_count": 5,
      "outputs": [
        {
          "output_type": "stream",
          "name": "stderr",
          "text": [
            "<ipython-input-5-3ff059336d70>:1: SettingWithCopyWarning: \n",
            "A value is trying to be set on a copy of a slice from a DataFrame.\n",
            "Try using .loc[row_indexer,col_indexer] = value instead\n",
            "\n",
            "See the caveats in the documentation: https://pandas.pydata.org/pandas-docs/stable/user_guide/indexing.html#returning-a-view-versus-a-copy\n",
            "  df['height'] = df['height'].str.replace('½', '.5').str.replace('¼','.25').str.replace('¾', '.75')\n",
            "<ipython-input-5-3ff059336d70>:2: SettingWithCopyWarning: \n",
            "A value is trying to be set on a copy of a slice from a DataFrame.\n",
            "Try using .loc[row_indexer,col_indexer] = value instead\n",
            "\n",
            "See the caveats in the documentation: https://pandas.pydata.org/pandas-docs/stable/user_guide/indexing.html#returning-a-view-versus-a-copy\n",
            "  df['height'] = df['height'].str.replace('′',\"'\")\n",
            "<ipython-input-5-3ff059336d70>:3: SettingWithCopyWarning: \n",
            "A value is trying to be set on a copy of a slice from a DataFrame.\n",
            "Try using .loc[row_indexer,col_indexer] = value instead\n",
            "\n",
            "See the caveats in the documentation: https://pandas.pydata.org/pandas-docs/stable/user_guide/indexing.html#returning-a-view-versus-a-copy\n",
            "  df['height'] = df['height'].str.replace('″','\"')\n"
          ]
        }
      ]
    },
    {
      "cell_type": "code",
      "source": [
        "r = re.compile(r\"([0-9]+)' ([0-9]*\\.?[0-9]+)\\\"\")\n",
        "def getInches(feet):\n",
        "  m = r.match(feet)\n",
        "  if m == None:\n",
        "    return float('NaN')\n",
        "  else:\n",
        "    return int(m.group(1))*12 + float(m.group(2))\n",
        "df['height'] = df['height'].apply(getInches)"
      ],
      "metadata": {
        "id": "QEQW98EMXnWI",
        "colab": {
          "base_uri": "https://localhost:8080/"
        },
        "outputId": "b9b7dc0c-0efd-4d63-e09f-9404cdd007bf"
      },
      "execution_count": 6,
      "outputs": [
        {
          "output_type": "stream",
          "name": "stderr",
          "text": [
            "<ipython-input-6-920728d021d3>:8: SettingWithCopyWarning: \n",
            "A value is trying to be set on a copy of a slice from a DataFrame.\n",
            "Try using .loc[row_indexer,col_indexer] = value instead\n",
            "\n",
            "See the caveats in the documentation: https://pandas.pydata.org/pandas-docs/stable/user_guide/indexing.html#returning-a-view-versus-a-copy\n",
            "  df['height'] = df['height'].apply(getInches)\n"
          ]
        }
      ]
    },
    {
      "cell_type": "code",
      "source": [
        "df.dropna(inplace=True)\n",
        "df"
      ],
      "metadata": {
        "colab": {
          "base_uri": "https://localhost:8080/",
          "height": 511
        },
        "id": "eMX8J5uxZtXd",
        "outputId": "02294aa0-1c94-4aea-b056-0830387e5ac8"
      },
      "execution_count": 7,
      "outputs": [
        {
          "output_type": "stream",
          "name": "stderr",
          "text": [
            "<ipython-input-7-b5dde2205341>:1: SettingWithCopyWarning: \n",
            "A value is trying to be set on a copy of a slice from a DataFrame\n",
            "\n",
            "See the caveats in the documentation: https://pandas.pydata.org/pandas-docs/stable/user_guide/indexing.html#returning-a-view-versus-a-copy\n",
            "  df.dropna(inplace=True)\n"
          ]
        },
        {
          "output_type": "execute_result",
          "data": {
            "text/plain": [
              "    Rank                 Name Date_of_birth  height  \\\n",
              "43    44         Karen Gillan    1987-11-28   70.75   \n",
              "54    55    Hannah Waddingham    1974-07-28   70.75   \n",
              "29    30        Lauren Lapkus    1985-09-06   70.00   \n",
              "84    85           Matt Damon    1970-10-08   70.00   \n",
              "41    42            Jess Bush    1992-03-26   70.00   \n",
              "..   ...                  ...           ...     ...   \n",
              "59    60        Josh Hartnett    1978-07-21   75.00   \n",
              "36    37        Angus Sampson    1979-02-12   75.00   \n",
              "96    97       John Krasinski    1979-10-20   75.00   \n",
              "89    90  Alexander Skarsgård    1976-08-25   76.50   \n",
              "74    75             Lee Pace    1979-03-25   77.00   \n",
              "\n",
              "                                         Role  \\\n",
              "43          ['Actress', 'Director', 'Writer']   \n",
              "54      ['Actress', 'Soundtrack', 'Producer']   \n",
              "29  ['Actress', 'Writer', 'Music Department']   \n",
              "84            ['Actor', 'Producer', 'Writer']   \n",
              "41                                ['Actress']   \n",
              "..                                        ...   \n",
              "59                      ['Actor', 'Producer']   \n",
              "36            ['Actor', 'Director', 'Writer']   \n",
              "96          ['Actor', 'Director', 'Producer']   \n",
              "89          ['Actor', 'Director', 'Producer']   \n",
              "74                    ['Actor', 'Soundtrack']   \n",
              "\n",
              "                             Awards                     Famous_for  \\\n",
              "43                           8 wins                         Selfie   \n",
              "54   12 wins , 16 nominations total                      Ted Lasso   \n",
              "29     2 wins , 3 nominations total                The Wrong Missy   \n",
              "84  37 wins , 154 nominations total              Good Will Hunting   \n",
              "41                     1 nomination  Star Trek: Strange New Worlds   \n",
              "..                              ...                            ...   \n",
              "59                           3 wins            Lucky Number Slevin   \n",
              "36                    7 nominations             The Lincoln Lawyer   \n",
              "96   18 wins , 79 nominations total         Tom Clancy's Jack Ryan   \n",
              "89   13 wins , 35 nominations total           The Legend of Tarzan   \n",
              "74    5 wins , 20 nominations total        Guardians of the Galaxy   \n",
              "\n",
              "                          Birth_place  \n",
              "43            Inverness, Scotland, UK  \n",
              "54                London, England, UK  \n",
              "29             Chicago, Illinois, USA  \n",
              "84         Boston, Massachusetts, USA  \n",
              "41               Brisbane, Queensland  \n",
              "..                                ...  \n",
              "59           St. Paul, Minnesota, USA  \n",
              "36                          Australia  \n",
              "96         Newton, Massachusetts, USA  \n",
              "89  Stockholm, Stockholms län, Sweden  \n",
              "74           Chickasha, Oklahoma, USA  \n",
              "\n",
              "[87 rows x 8 columns]"
            ],
            "text/html": [
              "\n",
              "\n",
              "  <div id=\"df-755ba583-19b4-4a88-8d38-0fa4706a62ce\">\n",
              "    <div class=\"colab-df-container\">\n",
              "      <div>\n",
              "<style scoped>\n",
              "    .dataframe tbody tr th:only-of-type {\n",
              "        vertical-align: middle;\n",
              "    }\n",
              "\n",
              "    .dataframe tbody tr th {\n",
              "        vertical-align: top;\n",
              "    }\n",
              "\n",
              "    .dataframe thead th {\n",
              "        text-align: right;\n",
              "    }\n",
              "</style>\n",
              "<table border=\"1\" class=\"dataframe\">\n",
              "  <thead>\n",
              "    <tr style=\"text-align: right;\">\n",
              "      <th></th>\n",
              "      <th>Rank</th>\n",
              "      <th>Name</th>\n",
              "      <th>Date_of_birth</th>\n",
              "      <th>height</th>\n",
              "      <th>Role</th>\n",
              "      <th>Awards</th>\n",
              "      <th>Famous_for</th>\n",
              "      <th>Birth_place</th>\n",
              "    </tr>\n",
              "  </thead>\n",
              "  <tbody>\n",
              "    <tr>\n",
              "      <th>43</th>\n",
              "      <td>44</td>\n",
              "      <td>Karen Gillan</td>\n",
              "      <td>1987-11-28</td>\n",
              "      <td>70.75</td>\n",
              "      <td>['Actress', 'Director', 'Writer']</td>\n",
              "      <td>8 wins</td>\n",
              "      <td>Selfie</td>\n",
              "      <td>Inverness, Scotland, UK</td>\n",
              "    </tr>\n",
              "    <tr>\n",
              "      <th>54</th>\n",
              "      <td>55</td>\n",
              "      <td>Hannah Waddingham</td>\n",
              "      <td>1974-07-28</td>\n",
              "      <td>70.75</td>\n",
              "      <td>['Actress', 'Soundtrack', 'Producer']</td>\n",
              "      <td>12 wins , 16 nominations total</td>\n",
              "      <td>Ted Lasso</td>\n",
              "      <td>London, England, UK</td>\n",
              "    </tr>\n",
              "    <tr>\n",
              "      <th>29</th>\n",
              "      <td>30</td>\n",
              "      <td>Lauren Lapkus</td>\n",
              "      <td>1985-09-06</td>\n",
              "      <td>70.00</td>\n",
              "      <td>['Actress', 'Writer', 'Music Department']</td>\n",
              "      <td>2 wins , 3 nominations total</td>\n",
              "      <td>The Wrong Missy</td>\n",
              "      <td>Chicago, Illinois, USA</td>\n",
              "    </tr>\n",
              "    <tr>\n",
              "      <th>84</th>\n",
              "      <td>85</td>\n",
              "      <td>Matt Damon</td>\n",
              "      <td>1970-10-08</td>\n",
              "      <td>70.00</td>\n",
              "      <td>['Actor', 'Producer', 'Writer']</td>\n",
              "      <td>37 wins , 154 nominations total</td>\n",
              "      <td>Good Will Hunting</td>\n",
              "      <td>Boston, Massachusetts, USA</td>\n",
              "    </tr>\n",
              "    <tr>\n",
              "      <th>41</th>\n",
              "      <td>42</td>\n",
              "      <td>Jess Bush</td>\n",
              "      <td>1992-03-26</td>\n",
              "      <td>70.00</td>\n",
              "      <td>['Actress']</td>\n",
              "      <td>1 nomination</td>\n",
              "      <td>Star Trek: Strange New Worlds</td>\n",
              "      <td>Brisbane, Queensland</td>\n",
              "    </tr>\n",
              "    <tr>\n",
              "      <th>...</th>\n",
              "      <td>...</td>\n",
              "      <td>...</td>\n",
              "      <td>...</td>\n",
              "      <td>...</td>\n",
              "      <td>...</td>\n",
              "      <td>...</td>\n",
              "      <td>...</td>\n",
              "      <td>...</td>\n",
              "    </tr>\n",
              "    <tr>\n",
              "      <th>59</th>\n",
              "      <td>60</td>\n",
              "      <td>Josh Hartnett</td>\n",
              "      <td>1978-07-21</td>\n",
              "      <td>75.00</td>\n",
              "      <td>['Actor', 'Producer']</td>\n",
              "      <td>3 wins</td>\n",
              "      <td>Lucky Number Slevin</td>\n",
              "      <td>St. Paul, Minnesota, USA</td>\n",
              "    </tr>\n",
              "    <tr>\n",
              "      <th>36</th>\n",
              "      <td>37</td>\n",
              "      <td>Angus Sampson</td>\n",
              "      <td>1979-02-12</td>\n",
              "      <td>75.00</td>\n",
              "      <td>['Actor', 'Director', 'Writer']</td>\n",
              "      <td>7 nominations</td>\n",
              "      <td>The Lincoln Lawyer</td>\n",
              "      <td>Australia</td>\n",
              "    </tr>\n",
              "    <tr>\n",
              "      <th>96</th>\n",
              "      <td>97</td>\n",
              "      <td>John Krasinski</td>\n",
              "      <td>1979-10-20</td>\n",
              "      <td>75.00</td>\n",
              "      <td>['Actor', 'Director', 'Producer']</td>\n",
              "      <td>18 wins , 79 nominations total</td>\n",
              "      <td>Tom Clancy's Jack Ryan</td>\n",
              "      <td>Newton, Massachusetts, USA</td>\n",
              "    </tr>\n",
              "    <tr>\n",
              "      <th>89</th>\n",
              "      <td>90</td>\n",
              "      <td>Alexander Skarsgård</td>\n",
              "      <td>1976-08-25</td>\n",
              "      <td>76.50</td>\n",
              "      <td>['Actor', 'Director', 'Producer']</td>\n",
              "      <td>13 wins , 35 nominations total</td>\n",
              "      <td>The Legend of Tarzan</td>\n",
              "      <td>Stockholm, Stockholms län, Sweden</td>\n",
              "    </tr>\n",
              "    <tr>\n",
              "      <th>74</th>\n",
              "      <td>75</td>\n",
              "      <td>Lee Pace</td>\n",
              "      <td>1979-03-25</td>\n",
              "      <td>77.00</td>\n",
              "      <td>['Actor', 'Soundtrack']</td>\n",
              "      <td>5 wins , 20 nominations total</td>\n",
              "      <td>Guardians of the Galaxy</td>\n",
              "      <td>Chickasha, Oklahoma, USA</td>\n",
              "    </tr>\n",
              "  </tbody>\n",
              "</table>\n",
              "<p>87 rows × 8 columns</p>\n",
              "</div>\n",
              "      <button class=\"colab-df-convert\" onclick=\"convertToInteractive('df-755ba583-19b4-4a88-8d38-0fa4706a62ce')\"\n",
              "              title=\"Convert this dataframe to an interactive table.\"\n",
              "              style=\"display:none;\">\n",
              "\n",
              "  <svg xmlns=\"http://www.w3.org/2000/svg\" height=\"24px\"viewBox=\"0 0 24 24\"\n",
              "       width=\"24px\">\n",
              "    <path d=\"M0 0h24v24H0V0z\" fill=\"none\"/>\n",
              "    <path d=\"M18.56 5.44l.94 2.06.94-2.06 2.06-.94-2.06-.94-.94-2.06-.94 2.06-2.06.94zm-11 1L8.5 8.5l.94-2.06 2.06-.94-2.06-.94L8.5 2.5l-.94 2.06-2.06.94zm10 10l.94 2.06.94-2.06 2.06-.94-2.06-.94-.94-2.06-.94 2.06-2.06.94z\"/><path d=\"M17.41 7.96l-1.37-1.37c-.4-.4-.92-.59-1.43-.59-.52 0-1.04.2-1.43.59L10.3 9.45l-7.72 7.72c-.78.78-.78 2.05 0 2.83L4 21.41c.39.39.9.59 1.41.59.51 0 1.02-.2 1.41-.59l7.78-7.78 2.81-2.81c.8-.78.8-2.07 0-2.86zM5.41 20L4 18.59l7.72-7.72 1.47 1.35L5.41 20z\"/>\n",
              "  </svg>\n",
              "      </button>\n",
              "\n",
              "\n",
              "\n",
              "    <div id=\"df-86cd4ad7-2069-44b2-867c-c0ee2ab35882\">\n",
              "      <button class=\"colab-df-quickchart\" onclick=\"quickchart('df-86cd4ad7-2069-44b2-867c-c0ee2ab35882')\"\n",
              "              title=\"Suggest charts.\"\n",
              "              style=\"display:none;\">\n",
              "\n",
              "<svg xmlns=\"http://www.w3.org/2000/svg\" height=\"24px\"viewBox=\"0 0 24 24\"\n",
              "     width=\"24px\">\n",
              "    <g>\n",
              "        <path d=\"M19 3H5c-1.1 0-2 .9-2 2v14c0 1.1.9 2 2 2h14c1.1 0 2-.9 2-2V5c0-1.1-.9-2-2-2zM9 17H7v-7h2v7zm4 0h-2V7h2v10zm4 0h-2v-4h2v4z\"/>\n",
              "    </g>\n",
              "</svg>\n",
              "      </button>\n",
              "    </div>\n",
              "\n",
              "<style>\n",
              "  .colab-df-quickchart {\n",
              "    background-color: #E8F0FE;\n",
              "    border: none;\n",
              "    border-radius: 50%;\n",
              "    cursor: pointer;\n",
              "    display: none;\n",
              "    fill: #1967D2;\n",
              "    height: 32px;\n",
              "    padding: 0 0 0 0;\n",
              "    width: 32px;\n",
              "  }\n",
              "\n",
              "  .colab-df-quickchart:hover {\n",
              "    background-color: #E2EBFA;\n",
              "    box-shadow: 0px 1px 2px rgba(60, 64, 67, 0.3), 0px 1px 3px 1px rgba(60, 64, 67, 0.15);\n",
              "    fill: #174EA6;\n",
              "  }\n",
              "\n",
              "  [theme=dark] .colab-df-quickchart {\n",
              "    background-color: #3B4455;\n",
              "    fill: #D2E3FC;\n",
              "  }\n",
              "\n",
              "  [theme=dark] .colab-df-quickchart:hover {\n",
              "    background-color: #434B5C;\n",
              "    box-shadow: 0px 1px 3px 1px rgba(0, 0, 0, 0.15);\n",
              "    filter: drop-shadow(0px 1px 2px rgba(0, 0, 0, 0.3));\n",
              "    fill: #FFFFFF;\n",
              "  }\n",
              "</style>\n",
              "\n",
              "    <script>\n",
              "      async function quickchart(key) {\n",
              "        const containerElement = document.querySelector('#' + key);\n",
              "        const charts = await google.colab.kernel.invokeFunction(\n",
              "            'suggestCharts', [key], {});\n",
              "      }\n",
              "    </script>\n",
              "\n",
              "      <script>\n",
              "\n",
              "function displayQuickchartButton(domScope) {\n",
              "  let quickchartButtonEl =\n",
              "    domScope.querySelector('#df-86cd4ad7-2069-44b2-867c-c0ee2ab35882 button.colab-df-quickchart');\n",
              "  quickchartButtonEl.style.display =\n",
              "    google.colab.kernel.accessAllowed ? 'block' : 'none';\n",
              "}\n",
              "\n",
              "        displayQuickchartButton(document);\n",
              "      </script>\n",
              "      <style>\n",
              "    .colab-df-container {\n",
              "      display:flex;\n",
              "      flex-wrap:wrap;\n",
              "      gap: 12px;\n",
              "    }\n",
              "\n",
              "    .colab-df-convert {\n",
              "      background-color: #E8F0FE;\n",
              "      border: none;\n",
              "      border-radius: 50%;\n",
              "      cursor: pointer;\n",
              "      display: none;\n",
              "      fill: #1967D2;\n",
              "      height: 32px;\n",
              "      padding: 0 0 0 0;\n",
              "      width: 32px;\n",
              "    }\n",
              "\n",
              "    .colab-df-convert:hover {\n",
              "      background-color: #E2EBFA;\n",
              "      box-shadow: 0px 1px 2px rgba(60, 64, 67, 0.3), 0px 1px 3px 1px rgba(60, 64, 67, 0.15);\n",
              "      fill: #174EA6;\n",
              "    }\n",
              "\n",
              "    [theme=dark] .colab-df-convert {\n",
              "      background-color: #3B4455;\n",
              "      fill: #D2E3FC;\n",
              "    }\n",
              "\n",
              "    [theme=dark] .colab-df-convert:hover {\n",
              "      background-color: #434B5C;\n",
              "      box-shadow: 0px 1px 3px 1px rgba(0, 0, 0, 0.15);\n",
              "      filter: drop-shadow(0px 1px 2px rgba(0, 0, 0, 0.3));\n",
              "      fill: #FFFFFF;\n",
              "    }\n",
              "  </style>\n",
              "\n",
              "      <script>\n",
              "        const buttonEl =\n",
              "          document.querySelector('#df-755ba583-19b4-4a88-8d38-0fa4706a62ce button.colab-df-convert');\n",
              "        buttonEl.style.display =\n",
              "          google.colab.kernel.accessAllowed ? 'block' : 'none';\n",
              "\n",
              "        async function convertToInteractive(key) {\n",
              "          const element = document.querySelector('#df-755ba583-19b4-4a88-8d38-0fa4706a62ce');\n",
              "          const dataTable =\n",
              "            await google.colab.kernel.invokeFunction('convertToInteractive',\n",
              "                                                     [key], {});\n",
              "          if (!dataTable) return;\n",
              "\n",
              "          const docLinkHtml = 'Like what you see? Visit the ' +\n",
              "            '<a target=\"_blank\" href=https://colab.research.google.com/notebooks/data_table.ipynb>data table notebook</a>'\n",
              "            + ' to learn more about interactive tables.';\n",
              "          element.innerHTML = '';\n",
              "          dataTable['output_type'] = 'display_data';\n",
              "          await google.colab.output.renderOutput(dataTable, element);\n",
              "          const docLink = document.createElement('div');\n",
              "          docLink.innerHTML = docLinkHtml;\n",
              "          element.appendChild(docLink);\n",
              "        }\n",
              "      </script>\n",
              "    </div>\n",
              "  </div>\n"
            ]
          },
          "metadata": {},
          "execution_count": 7
        }
      ]
    },
    {
      "cell_type": "code",
      "source": [
        "from datetime import datetime, date\n",
        "\n",
        "def getAge(birthDate):\n",
        "  born = datetime.strptime(birthDate, \"%Y-%m-%d\").date()\n",
        "  today = date.today()\n",
        "  val = today.year - born.year - ((today.month, today.day) < (born.month, born.day))\n",
        "  return int(val)\n",
        "df['Age'] = df['Date_of_birth'].apply(getAge)\n",
        "df.dropna(inplace=True)"
      ],
      "metadata": {
        "id": "dQBy3wNobaIT"
      },
      "execution_count": 8,
      "outputs": []
    },
    {
      "cell_type": "code",
      "source": [
        "df[['Year', 'Month', 'Day']] = df['Date_of_birth'].str.split('-', expand=True)\n",
        "df"
      ],
      "metadata": {
        "colab": {
          "base_uri": "https://localhost:8080/",
          "height": 424
        },
        "id": "qt4NkOZyclQE",
        "outputId": "f33be185-7cbd-4fb9-a0e3-c07ff2bc558e"
      },
      "execution_count": 9,
      "outputs": [
        {
          "output_type": "execute_result",
          "data": {
            "text/plain": [
              "    Rank                 Name Date_of_birth  height  \\\n",
              "43    44         Karen Gillan    1987-11-28   70.75   \n",
              "54    55    Hannah Waddingham    1974-07-28   70.75   \n",
              "29    30        Lauren Lapkus    1985-09-06   70.00   \n",
              "84    85           Matt Damon    1970-10-08   70.00   \n",
              "41    42            Jess Bush    1992-03-26   70.00   \n",
              "..   ...                  ...           ...     ...   \n",
              "59    60        Josh Hartnett    1978-07-21   75.00   \n",
              "36    37        Angus Sampson    1979-02-12   75.00   \n",
              "96    97       John Krasinski    1979-10-20   75.00   \n",
              "89    90  Alexander Skarsgård    1976-08-25   76.50   \n",
              "74    75             Lee Pace    1979-03-25   77.00   \n",
              "\n",
              "                                         Role  \\\n",
              "43          ['Actress', 'Director', 'Writer']   \n",
              "54      ['Actress', 'Soundtrack', 'Producer']   \n",
              "29  ['Actress', 'Writer', 'Music Department']   \n",
              "84            ['Actor', 'Producer', 'Writer']   \n",
              "41                                ['Actress']   \n",
              "..                                        ...   \n",
              "59                      ['Actor', 'Producer']   \n",
              "36            ['Actor', 'Director', 'Writer']   \n",
              "96          ['Actor', 'Director', 'Producer']   \n",
              "89          ['Actor', 'Director', 'Producer']   \n",
              "74                    ['Actor', 'Soundtrack']   \n",
              "\n",
              "                             Awards                     Famous_for  \\\n",
              "43                           8 wins                         Selfie   \n",
              "54   12 wins , 16 nominations total                      Ted Lasso   \n",
              "29     2 wins , 3 nominations total                The Wrong Missy   \n",
              "84  37 wins , 154 nominations total              Good Will Hunting   \n",
              "41                     1 nomination  Star Trek: Strange New Worlds   \n",
              "..                              ...                            ...   \n",
              "59                           3 wins            Lucky Number Slevin   \n",
              "36                    7 nominations             The Lincoln Lawyer   \n",
              "96   18 wins , 79 nominations total         Tom Clancy's Jack Ryan   \n",
              "89   13 wins , 35 nominations total           The Legend of Tarzan   \n",
              "74    5 wins , 20 nominations total        Guardians of the Galaxy   \n",
              "\n",
              "                          Birth_place  Age  Year Month Day  \n",
              "43            Inverness, Scotland, UK   35  1987    11  28  \n",
              "54                London, England, UK   49  1974    07  28  \n",
              "29             Chicago, Illinois, USA   37  1985    09  06  \n",
              "84         Boston, Massachusetts, USA   52  1970    10  08  \n",
              "41               Brisbane, Queensland   31  1992    03  26  \n",
              "..                                ...  ...   ...   ...  ..  \n",
              "59           St. Paul, Minnesota, USA   45  1978    07  21  \n",
              "36                          Australia   44  1979    02  12  \n",
              "96         Newton, Massachusetts, USA   43  1979    10  20  \n",
              "89  Stockholm, Stockholms län, Sweden   46  1976    08  25  \n",
              "74           Chickasha, Oklahoma, USA   44  1979    03  25  \n",
              "\n",
              "[87 rows x 12 columns]"
            ],
            "text/html": [
              "\n",
              "\n",
              "  <div id=\"df-825e344a-4469-4b0a-b1bb-987e6e2e0678\">\n",
              "    <div class=\"colab-df-container\">\n",
              "      <div>\n",
              "<style scoped>\n",
              "    .dataframe tbody tr th:only-of-type {\n",
              "        vertical-align: middle;\n",
              "    }\n",
              "\n",
              "    .dataframe tbody tr th {\n",
              "        vertical-align: top;\n",
              "    }\n",
              "\n",
              "    .dataframe thead th {\n",
              "        text-align: right;\n",
              "    }\n",
              "</style>\n",
              "<table border=\"1\" class=\"dataframe\">\n",
              "  <thead>\n",
              "    <tr style=\"text-align: right;\">\n",
              "      <th></th>\n",
              "      <th>Rank</th>\n",
              "      <th>Name</th>\n",
              "      <th>Date_of_birth</th>\n",
              "      <th>height</th>\n",
              "      <th>Role</th>\n",
              "      <th>Awards</th>\n",
              "      <th>Famous_for</th>\n",
              "      <th>Birth_place</th>\n",
              "      <th>Age</th>\n",
              "      <th>Year</th>\n",
              "      <th>Month</th>\n",
              "      <th>Day</th>\n",
              "    </tr>\n",
              "  </thead>\n",
              "  <tbody>\n",
              "    <tr>\n",
              "      <th>43</th>\n",
              "      <td>44</td>\n",
              "      <td>Karen Gillan</td>\n",
              "      <td>1987-11-28</td>\n",
              "      <td>70.75</td>\n",
              "      <td>['Actress', 'Director', 'Writer']</td>\n",
              "      <td>8 wins</td>\n",
              "      <td>Selfie</td>\n",
              "      <td>Inverness, Scotland, UK</td>\n",
              "      <td>35</td>\n",
              "      <td>1987</td>\n",
              "      <td>11</td>\n",
              "      <td>28</td>\n",
              "    </tr>\n",
              "    <tr>\n",
              "      <th>54</th>\n",
              "      <td>55</td>\n",
              "      <td>Hannah Waddingham</td>\n",
              "      <td>1974-07-28</td>\n",
              "      <td>70.75</td>\n",
              "      <td>['Actress', 'Soundtrack', 'Producer']</td>\n",
              "      <td>12 wins , 16 nominations total</td>\n",
              "      <td>Ted Lasso</td>\n",
              "      <td>London, England, UK</td>\n",
              "      <td>49</td>\n",
              "      <td>1974</td>\n",
              "      <td>07</td>\n",
              "      <td>28</td>\n",
              "    </tr>\n",
              "    <tr>\n",
              "      <th>29</th>\n",
              "      <td>30</td>\n",
              "      <td>Lauren Lapkus</td>\n",
              "      <td>1985-09-06</td>\n",
              "      <td>70.00</td>\n",
              "      <td>['Actress', 'Writer', 'Music Department']</td>\n",
              "      <td>2 wins , 3 nominations total</td>\n",
              "      <td>The Wrong Missy</td>\n",
              "      <td>Chicago, Illinois, USA</td>\n",
              "      <td>37</td>\n",
              "      <td>1985</td>\n",
              "      <td>09</td>\n",
              "      <td>06</td>\n",
              "    </tr>\n",
              "    <tr>\n",
              "      <th>84</th>\n",
              "      <td>85</td>\n",
              "      <td>Matt Damon</td>\n",
              "      <td>1970-10-08</td>\n",
              "      <td>70.00</td>\n",
              "      <td>['Actor', 'Producer', 'Writer']</td>\n",
              "      <td>37 wins , 154 nominations total</td>\n",
              "      <td>Good Will Hunting</td>\n",
              "      <td>Boston, Massachusetts, USA</td>\n",
              "      <td>52</td>\n",
              "      <td>1970</td>\n",
              "      <td>10</td>\n",
              "      <td>08</td>\n",
              "    </tr>\n",
              "    <tr>\n",
              "      <th>41</th>\n",
              "      <td>42</td>\n",
              "      <td>Jess Bush</td>\n",
              "      <td>1992-03-26</td>\n",
              "      <td>70.00</td>\n",
              "      <td>['Actress']</td>\n",
              "      <td>1 nomination</td>\n",
              "      <td>Star Trek: Strange New Worlds</td>\n",
              "      <td>Brisbane, Queensland</td>\n",
              "      <td>31</td>\n",
              "      <td>1992</td>\n",
              "      <td>03</td>\n",
              "      <td>26</td>\n",
              "    </tr>\n",
              "    <tr>\n",
              "      <th>...</th>\n",
              "      <td>...</td>\n",
              "      <td>...</td>\n",
              "      <td>...</td>\n",
              "      <td>...</td>\n",
              "      <td>...</td>\n",
              "      <td>...</td>\n",
              "      <td>...</td>\n",
              "      <td>...</td>\n",
              "      <td>...</td>\n",
              "      <td>...</td>\n",
              "      <td>...</td>\n",
              "      <td>...</td>\n",
              "    </tr>\n",
              "    <tr>\n",
              "      <th>59</th>\n",
              "      <td>60</td>\n",
              "      <td>Josh Hartnett</td>\n",
              "      <td>1978-07-21</td>\n",
              "      <td>75.00</td>\n",
              "      <td>['Actor', 'Producer']</td>\n",
              "      <td>3 wins</td>\n",
              "      <td>Lucky Number Slevin</td>\n",
              "      <td>St. Paul, Minnesota, USA</td>\n",
              "      <td>45</td>\n",
              "      <td>1978</td>\n",
              "      <td>07</td>\n",
              "      <td>21</td>\n",
              "    </tr>\n",
              "    <tr>\n",
              "      <th>36</th>\n",
              "      <td>37</td>\n",
              "      <td>Angus Sampson</td>\n",
              "      <td>1979-02-12</td>\n",
              "      <td>75.00</td>\n",
              "      <td>['Actor', 'Director', 'Writer']</td>\n",
              "      <td>7 nominations</td>\n",
              "      <td>The Lincoln Lawyer</td>\n",
              "      <td>Australia</td>\n",
              "      <td>44</td>\n",
              "      <td>1979</td>\n",
              "      <td>02</td>\n",
              "      <td>12</td>\n",
              "    </tr>\n",
              "    <tr>\n",
              "      <th>96</th>\n",
              "      <td>97</td>\n",
              "      <td>John Krasinski</td>\n",
              "      <td>1979-10-20</td>\n",
              "      <td>75.00</td>\n",
              "      <td>['Actor', 'Director', 'Producer']</td>\n",
              "      <td>18 wins , 79 nominations total</td>\n",
              "      <td>Tom Clancy's Jack Ryan</td>\n",
              "      <td>Newton, Massachusetts, USA</td>\n",
              "      <td>43</td>\n",
              "      <td>1979</td>\n",
              "      <td>10</td>\n",
              "      <td>20</td>\n",
              "    </tr>\n",
              "    <tr>\n",
              "      <th>89</th>\n",
              "      <td>90</td>\n",
              "      <td>Alexander Skarsgård</td>\n",
              "      <td>1976-08-25</td>\n",
              "      <td>76.50</td>\n",
              "      <td>['Actor', 'Director', 'Producer']</td>\n",
              "      <td>13 wins , 35 nominations total</td>\n",
              "      <td>The Legend of Tarzan</td>\n",
              "      <td>Stockholm, Stockholms län, Sweden</td>\n",
              "      <td>46</td>\n",
              "      <td>1976</td>\n",
              "      <td>08</td>\n",
              "      <td>25</td>\n",
              "    </tr>\n",
              "    <tr>\n",
              "      <th>74</th>\n",
              "      <td>75</td>\n",
              "      <td>Lee Pace</td>\n",
              "      <td>1979-03-25</td>\n",
              "      <td>77.00</td>\n",
              "      <td>['Actor', 'Soundtrack']</td>\n",
              "      <td>5 wins , 20 nominations total</td>\n",
              "      <td>Guardians of the Galaxy</td>\n",
              "      <td>Chickasha, Oklahoma, USA</td>\n",
              "      <td>44</td>\n",
              "      <td>1979</td>\n",
              "      <td>03</td>\n",
              "      <td>25</td>\n",
              "    </tr>\n",
              "  </tbody>\n",
              "</table>\n",
              "<p>87 rows × 12 columns</p>\n",
              "</div>\n",
              "      <button class=\"colab-df-convert\" onclick=\"convertToInteractive('df-825e344a-4469-4b0a-b1bb-987e6e2e0678')\"\n",
              "              title=\"Convert this dataframe to an interactive table.\"\n",
              "              style=\"display:none;\">\n",
              "\n",
              "  <svg xmlns=\"http://www.w3.org/2000/svg\" height=\"24px\"viewBox=\"0 0 24 24\"\n",
              "       width=\"24px\">\n",
              "    <path d=\"M0 0h24v24H0V0z\" fill=\"none\"/>\n",
              "    <path d=\"M18.56 5.44l.94 2.06.94-2.06 2.06-.94-2.06-.94-.94-2.06-.94 2.06-2.06.94zm-11 1L8.5 8.5l.94-2.06 2.06-.94-2.06-.94L8.5 2.5l-.94 2.06-2.06.94zm10 10l.94 2.06.94-2.06 2.06-.94-2.06-.94-.94-2.06-.94 2.06-2.06.94z\"/><path d=\"M17.41 7.96l-1.37-1.37c-.4-.4-.92-.59-1.43-.59-.52 0-1.04.2-1.43.59L10.3 9.45l-7.72 7.72c-.78.78-.78 2.05 0 2.83L4 21.41c.39.39.9.59 1.41.59.51 0 1.02-.2 1.41-.59l7.78-7.78 2.81-2.81c.8-.78.8-2.07 0-2.86zM5.41 20L4 18.59l7.72-7.72 1.47 1.35L5.41 20z\"/>\n",
              "  </svg>\n",
              "      </button>\n",
              "\n",
              "\n",
              "\n",
              "    <div id=\"df-413b7ef9-4f1a-45b1-a96f-a2d172ed8454\">\n",
              "      <button class=\"colab-df-quickchart\" onclick=\"quickchart('df-413b7ef9-4f1a-45b1-a96f-a2d172ed8454')\"\n",
              "              title=\"Suggest charts.\"\n",
              "              style=\"display:none;\">\n",
              "\n",
              "<svg xmlns=\"http://www.w3.org/2000/svg\" height=\"24px\"viewBox=\"0 0 24 24\"\n",
              "     width=\"24px\">\n",
              "    <g>\n",
              "        <path d=\"M19 3H5c-1.1 0-2 .9-2 2v14c0 1.1.9 2 2 2h14c1.1 0 2-.9 2-2V5c0-1.1-.9-2-2-2zM9 17H7v-7h2v7zm4 0h-2V7h2v10zm4 0h-2v-4h2v4z\"/>\n",
              "    </g>\n",
              "</svg>\n",
              "      </button>\n",
              "    </div>\n",
              "\n",
              "<style>\n",
              "  .colab-df-quickchart {\n",
              "    background-color: #E8F0FE;\n",
              "    border: none;\n",
              "    border-radius: 50%;\n",
              "    cursor: pointer;\n",
              "    display: none;\n",
              "    fill: #1967D2;\n",
              "    height: 32px;\n",
              "    padding: 0 0 0 0;\n",
              "    width: 32px;\n",
              "  }\n",
              "\n",
              "  .colab-df-quickchart:hover {\n",
              "    background-color: #E2EBFA;\n",
              "    box-shadow: 0px 1px 2px rgba(60, 64, 67, 0.3), 0px 1px 3px 1px rgba(60, 64, 67, 0.15);\n",
              "    fill: #174EA6;\n",
              "  }\n",
              "\n",
              "  [theme=dark] .colab-df-quickchart {\n",
              "    background-color: #3B4455;\n",
              "    fill: #D2E3FC;\n",
              "  }\n",
              "\n",
              "  [theme=dark] .colab-df-quickchart:hover {\n",
              "    background-color: #434B5C;\n",
              "    box-shadow: 0px 1px 3px 1px rgba(0, 0, 0, 0.15);\n",
              "    filter: drop-shadow(0px 1px 2px rgba(0, 0, 0, 0.3));\n",
              "    fill: #FFFFFF;\n",
              "  }\n",
              "</style>\n",
              "\n",
              "    <script>\n",
              "      async function quickchart(key) {\n",
              "        const containerElement = document.querySelector('#' + key);\n",
              "        const charts = await google.colab.kernel.invokeFunction(\n",
              "            'suggestCharts', [key], {});\n",
              "      }\n",
              "    </script>\n",
              "\n",
              "      <script>\n",
              "\n",
              "function displayQuickchartButton(domScope) {\n",
              "  let quickchartButtonEl =\n",
              "    domScope.querySelector('#df-413b7ef9-4f1a-45b1-a96f-a2d172ed8454 button.colab-df-quickchart');\n",
              "  quickchartButtonEl.style.display =\n",
              "    google.colab.kernel.accessAllowed ? 'block' : 'none';\n",
              "}\n",
              "\n",
              "        displayQuickchartButton(document);\n",
              "      </script>\n",
              "      <style>\n",
              "    .colab-df-container {\n",
              "      display:flex;\n",
              "      flex-wrap:wrap;\n",
              "      gap: 12px;\n",
              "    }\n",
              "\n",
              "    .colab-df-convert {\n",
              "      background-color: #E8F0FE;\n",
              "      border: none;\n",
              "      border-radius: 50%;\n",
              "      cursor: pointer;\n",
              "      display: none;\n",
              "      fill: #1967D2;\n",
              "      height: 32px;\n",
              "      padding: 0 0 0 0;\n",
              "      width: 32px;\n",
              "    }\n",
              "\n",
              "    .colab-df-convert:hover {\n",
              "      background-color: #E2EBFA;\n",
              "      box-shadow: 0px 1px 2px rgba(60, 64, 67, 0.3), 0px 1px 3px 1px rgba(60, 64, 67, 0.15);\n",
              "      fill: #174EA6;\n",
              "    }\n",
              "\n",
              "    [theme=dark] .colab-df-convert {\n",
              "      background-color: #3B4455;\n",
              "      fill: #D2E3FC;\n",
              "    }\n",
              "\n",
              "    [theme=dark] .colab-df-convert:hover {\n",
              "      background-color: #434B5C;\n",
              "      box-shadow: 0px 1px 3px 1px rgba(0, 0, 0, 0.15);\n",
              "      filter: drop-shadow(0px 1px 2px rgba(0, 0, 0, 0.3));\n",
              "      fill: #FFFFFF;\n",
              "    }\n",
              "  </style>\n",
              "\n",
              "      <script>\n",
              "        const buttonEl =\n",
              "          document.querySelector('#df-825e344a-4469-4b0a-b1bb-987e6e2e0678 button.colab-df-convert');\n",
              "        buttonEl.style.display =\n",
              "          google.colab.kernel.accessAllowed ? 'block' : 'none';\n",
              "\n",
              "        async function convertToInteractive(key) {\n",
              "          const element = document.querySelector('#df-825e344a-4469-4b0a-b1bb-987e6e2e0678');\n",
              "          const dataTable =\n",
              "            await google.colab.kernel.invokeFunction('convertToInteractive',\n",
              "                                                     [key], {});\n",
              "          if (!dataTable) return;\n",
              "\n",
              "          const docLinkHtml = 'Like what you see? Visit the ' +\n",
              "            '<a target=\"_blank\" href=https://colab.research.google.com/notebooks/data_table.ipynb>data table notebook</a>'\n",
              "            + ' to learn more about interactive tables.';\n",
              "          element.innerHTML = '';\n",
              "          dataTable['output_type'] = 'display_data';\n",
              "          await google.colab.output.renderOutput(dataTable, element);\n",
              "          const docLink = document.createElement('div');\n",
              "          docLink.innerHTML = docLinkHtml;\n",
              "          element.appendChild(docLink);\n",
              "        }\n",
              "      </script>\n",
              "    </div>\n",
              "  </div>\n"
            ]
          },
          "metadata": {},
          "execution_count": 9
        }
      ]
    },
    {
      "cell_type": "code",
      "source": [
        "def getWins(string):\n",
        "  if 'wins' in string:\n",
        "    wins = string.partition(\"wins\")[0].strip()\n",
        "    return int(wins)\n",
        "  else:\n",
        "    return 0\n",
        "df['Wins'] = df['Awards'].apply(getWins)"
      ],
      "metadata": {
        "id": "mjgoKaANer06"
      },
      "execution_count": 10,
      "outputs": []
    },
    {
      "cell_type": "code",
      "source": [
        "awardChange = df['Awards'].str.replace(', ', ',  ')"
      ],
      "metadata": {
        "id": "Za2LTKsLhtku"
      },
      "execution_count": 11,
      "outputs": []
    },
    {
      "cell_type": "code",
      "source": [
        "def getNominations(string):\n",
        "  if 'nomination' in string:\n",
        "\n",
        "    nom = string.partition(\"nomination\")[0].strip()[-3:].strip()\n",
        "    if nom[0].isdigit():\n",
        "      return int(nom)\n",
        "  else:\n",
        "    return 0\n",
        "df['Nominations'] = awardChange.apply(getNominations)"
      ],
      "metadata": {
        "id": "19T5_-Q6fzLV"
      },
      "execution_count": 12,
      "outputs": []
    },
    {
      "cell_type": "code",
      "source": [
        "df['Role'].unique()\n",
        "\n",
        "\n",
        "df['Actor'] = df['Role'].apply(lambda role: 'Actor' in role or 'Actress' in role)\n",
        "df['Director'] = df['Role'].apply(lambda role: 'Director' in role)\n",
        "df['Writer'] = df['Role'].apply(lambda role: 'Writer' in role)\n",
        "df['Producer'] = df['Role'].apply(lambda role: 'Producer' in role)"
      ],
      "metadata": {
        "id": "QYRQ6149kU8d"
      },
      "execution_count": 13,
      "outputs": []
    },
    {
      "cell_type": "code",
      "source": [
        "def split_fun(s):\n",
        "  lst = s.split(', ')\n",
        "  city = ''\n",
        "  state = ''\n",
        "  country = lst[-1]\n",
        "  if len(lst) > 1:\n",
        "    city = lst[-2]\n",
        "  if len(lst) == 3:\n",
        "    state = lst[0]\n",
        "  return pd.Series([city, state, country])\n",
        "\n",
        "df[['City', 'State', 'Country']] = df['Birth_place'].apply(split_fun)"
      ],
      "metadata": {
        "id": "lYsjxI6HmTRO"
      },
      "execution_count": 14,
      "outputs": []
    },
    {
      "cell_type": "code",
      "source": [
        "df[\"First_name\"] = df[\"Name\"].str.extract(r'^(\\w+)')\n",
        "df[\"Middle_name\"] = df[\"Name\"].str.replace(r'^\\w+\\s+|\\s+\\w+$', '')\n",
        "df[\"Last_name\"] = df[\"Name\"].str.extract(r'(\\w+)$')"
      ],
      "metadata": {
        "colab": {
          "base_uri": "https://localhost:8080/"
        },
        "id": "1mggZH8FyNiO",
        "outputId": "00020d37-bf99-4641-d96e-6b2868d20e15"
      },
      "execution_count": 15,
      "outputs": [
        {
          "output_type": "stream",
          "name": "stderr",
          "text": [
            "<ipython-input-15-3c4d5930eb38>:2: FutureWarning: The default value of regex will change from True to False in a future version.\n",
            "  df[\"Middle_name\"] = df[\"Name\"].str.replace(r'^\\w+\\s+|\\s+\\w+$', '')\n"
          ]
        }
      ]
    },
    {
      "cell_type": "code",
      "source": [
        "X = np.array(df['height'])\n",
        "y = np.array(df['Wins'])\n",
        "\n",
        "X = X.reshape(-1, 1)\n",
        "y = y.reshape(-1, 1)\n",
        "\n",
        "X_train, X_test, y_train, y_test = train_test_split(X, y, test_size=0.9, random_state=997)"
      ],
      "metadata": {
        "id": "fd-5sAr_y_id"
      },
      "execution_count": 40,
      "outputs": []
    },
    {
      "cell_type": "code",
      "source": [
        "lr = LinearRegression()\n",
        "lr.fit(X_train, y_train)"
      ],
      "metadata": {
        "colab": {
          "base_uri": "https://localhost:8080/",
          "height": 75
        },
        "id": "RbzroIeBzjau",
        "outputId": "24c4a759-5cdd-4029-e7df-916d98eb02af"
      },
      "execution_count": 41,
      "outputs": [
        {
          "output_type": "execute_result",
          "data": {
            "text/plain": [
              "LinearRegression()"
            ],
            "text/html": [
              "<style>#sk-container-id-3 {color: black;background-color: white;}#sk-container-id-3 pre{padding: 0;}#sk-container-id-3 div.sk-toggleable {background-color: white;}#sk-container-id-3 label.sk-toggleable__label {cursor: pointer;display: block;width: 100%;margin-bottom: 0;padding: 0.3em;box-sizing: border-box;text-align: center;}#sk-container-id-3 label.sk-toggleable__label-arrow:before {content: \"▸\";float: left;margin-right: 0.25em;color: #696969;}#sk-container-id-3 label.sk-toggleable__label-arrow:hover:before {color: black;}#sk-container-id-3 div.sk-estimator:hover label.sk-toggleable__label-arrow:before {color: black;}#sk-container-id-3 div.sk-toggleable__content {max-height: 0;max-width: 0;overflow: hidden;text-align: left;background-color: #f0f8ff;}#sk-container-id-3 div.sk-toggleable__content pre {margin: 0.2em;color: black;border-radius: 0.25em;background-color: #f0f8ff;}#sk-container-id-3 input.sk-toggleable__control:checked~div.sk-toggleable__content {max-height: 200px;max-width: 100%;overflow: auto;}#sk-container-id-3 input.sk-toggleable__control:checked~label.sk-toggleable__label-arrow:before {content: \"▾\";}#sk-container-id-3 div.sk-estimator input.sk-toggleable__control:checked~label.sk-toggleable__label {background-color: #d4ebff;}#sk-container-id-3 div.sk-label input.sk-toggleable__control:checked~label.sk-toggleable__label {background-color: #d4ebff;}#sk-container-id-3 input.sk-hidden--visually {border: 0;clip: rect(1px 1px 1px 1px);clip: rect(1px, 1px, 1px, 1px);height: 1px;margin: -1px;overflow: hidden;padding: 0;position: absolute;width: 1px;}#sk-container-id-3 div.sk-estimator {font-family: monospace;background-color: #f0f8ff;border: 1px dotted black;border-radius: 0.25em;box-sizing: border-box;margin-bottom: 0.5em;}#sk-container-id-3 div.sk-estimator:hover {background-color: #d4ebff;}#sk-container-id-3 div.sk-parallel-item::after {content: \"\";width: 100%;border-bottom: 1px solid gray;flex-grow: 1;}#sk-container-id-3 div.sk-label:hover label.sk-toggleable__label {background-color: #d4ebff;}#sk-container-id-3 div.sk-serial::before {content: \"\";position: absolute;border-left: 1px solid gray;box-sizing: border-box;top: 0;bottom: 0;left: 50%;z-index: 0;}#sk-container-id-3 div.sk-serial {display: flex;flex-direction: column;align-items: center;background-color: white;padding-right: 0.2em;padding-left: 0.2em;position: relative;}#sk-container-id-3 div.sk-item {position: relative;z-index: 1;}#sk-container-id-3 div.sk-parallel {display: flex;align-items: stretch;justify-content: center;background-color: white;position: relative;}#sk-container-id-3 div.sk-item::before, #sk-container-id-3 div.sk-parallel-item::before {content: \"\";position: absolute;border-left: 1px solid gray;box-sizing: border-box;top: 0;bottom: 0;left: 50%;z-index: -1;}#sk-container-id-3 div.sk-parallel-item {display: flex;flex-direction: column;z-index: 1;position: relative;background-color: white;}#sk-container-id-3 div.sk-parallel-item:first-child::after {align-self: flex-end;width: 50%;}#sk-container-id-3 div.sk-parallel-item:last-child::after {align-self: flex-start;width: 50%;}#sk-container-id-3 div.sk-parallel-item:only-child::after {width: 0;}#sk-container-id-3 div.sk-dashed-wrapped {border: 1px dashed gray;margin: 0 0.4em 0.5em 0.4em;box-sizing: border-box;padding-bottom: 0.4em;background-color: white;}#sk-container-id-3 div.sk-label label {font-family: monospace;font-weight: bold;display: inline-block;line-height: 1.2em;}#sk-container-id-3 div.sk-label-container {text-align: center;}#sk-container-id-3 div.sk-container {/* jupyter's `normalize.less` sets `[hidden] { display: none; }` but bootstrap.min.css set `[hidden] { display: none !important; }` so we also need the `!important` here to be able to override the default hidden behavior on the sphinx rendered scikit-learn.org. See: https://github.com/scikit-learn/scikit-learn/issues/21755 */display: inline-block !important;position: relative;}#sk-container-id-3 div.sk-text-repr-fallback {display: none;}</style><div id=\"sk-container-id-3\" class=\"sk-top-container\"><div class=\"sk-text-repr-fallback\"><pre>LinearRegression()</pre><b>In a Jupyter environment, please rerun this cell to show the HTML representation or trust the notebook. <br />On GitHub, the HTML representation is unable to render, please try loading this page with nbviewer.org.</b></div><div class=\"sk-container\" hidden><div class=\"sk-item\"><div class=\"sk-estimator sk-toggleable\"><input class=\"sk-toggleable__control sk-hidden--visually\" id=\"sk-estimator-id-3\" type=\"checkbox\" checked><label for=\"sk-estimator-id-3\" class=\"sk-toggleable__label sk-toggleable__label-arrow\">LinearRegression</label><div class=\"sk-toggleable__content\"><pre>LinearRegression()</pre></div></div></div></div></div>"
            ]
          },
          "metadata": {},
          "execution_count": 41
        }
      ]
    },
    {
      "cell_type": "code",
      "source": [
        "y_pred = lr.predict(X_test)"
      ],
      "metadata": {
        "id": "sfEzSfie4kc_"
      },
      "execution_count": 42,
      "outputs": []
    },
    {
      "cell_type": "code",
      "source": [
        "fig, ax = plt.subplots()\n",
        "\n",
        "ax.scatter(X_test, y_test, color='b')\n",
        "ax.plot(X_test, y_pred, color='k')\n",
        "ax.set(\n",
        "    xlabel='Height (inches)',\n",
        "    ylabel='Wins'\n",
        ")"
      ],
      "metadata": {
        "colab": {
          "base_uri": "https://localhost:8080/",
          "height": 466
        },
        "id": "_-Ydg4MpyYzq",
        "outputId": "3c4f9ce7-77d5-48e1-c305-4c0044fbab60"
      },
      "execution_count": 43,
      "outputs": [
        {
          "output_type": "execute_result",
          "data": {
            "text/plain": [
              "[Text(0.5, 0, 'Height (inches)'), Text(0, 0.5, 'Wins')]"
            ]
          },
          "metadata": {},
          "execution_count": 43
        },
        {
          "output_type": "display_data",
          "data": {
            "text/plain": [
              "<Figure size 640x480 with 1 Axes>"
            ],
            "image/png": "[encoded data removed]"
          },
          "metadata": {}
        }
      ]
    },
    {
      "cell_type": "code",
      "source": [
        "from sklearn.metrics import mean_absolute_error, mean_squared_error\n",
        "\n",
        "mae = mean_absolute_error(y_true=y_test,\n",
        "                          y_pred=y_pred)\n",
        "mse = mean_squared_error(y_true=y_test,\n",
        "                          y_pred=y_pred)\n",
        "rmse = mean_squared_error(y_true=y_test,\n",
        "                          y_pred=y_pred, squared=False)\n",
        "print(\"MAE:\", mae)\n",
        "print(\"MSE:\", mse)\n",
        "print(\"RMSE:\", rmse)"
      ],
      "metadata": {
        "colab": {
          "base_uri": "https://localhost:8080/"
        },
        "id": "H4pOFeECzY56",
        "outputId": "378a0754-e061-4c49-a9c7-5aa662cd02fb"
      },
      "execution_count": 44,
      "outputs": [
        {
          "output_type": "stream",
          "name": "stdout",
          "text": [
            "MAE: 18.083996432122724\n",
            "MSE: 792.9190133341133\n",
            "RMSE: 28.15881768352701\n"
          ]
        }
      ]
    },
    {
      "cell_type": "code",
      "source": [
        "celeb_countries = ((df.groupby('Country', as_index=False).count()).iloc[:, :2])\n",
        "\n",
        "fig, ax = plt.subplots(figsize=(10, 10))\n",
        "ax.pie(celeb_countries['Rank'], labels=celeb_countries['Country'])\n",
        "plt.tight_layout()"
      ],
      "metadata": {
        "colab": {
          "base_uri": "https://localhost:8080/",
          "height": 1000
        },
        "id": "ZMHF-63h03Wo",
        "outputId": "771d6843-3591-48d6-de9c-c734950a2292"
      },
      "execution_count": 45,
      "outputs": [
        {
          "output_type": "display_data",
          "data": {
            "text/plain": [
              "<Figure size 1000x1000 with 1 Axes>"
            ],
            "image/png": "[encoded data removed]"
          },
          "metadata": {}
        }
      ]
    },
    {
      "cell_type": "code",
      "source": [
        "cols = list(df.select_dtypes(include=np.number).columns)\n",
        "cols"
      ],
      "metadata": {
        "colab": {
          "base_uri": "https://localhost:8080/"
        },
        "id": "z1PVE4gLJza6",
        "outputId": "6394ecf2-8685-4fc1-dc4e-24397ee68c43"
      },
      "execution_count": 49,
      "outputs": [
        {
          "output_type": "execute_result",
          "data": {
            "text/plain": [
              "['Rank', 'height', 'Age', 'Wins', 'Nominations']"
            ]
          },
          "metadata": {},
          "execution_count": 49
        }
      ]
    },
    {
      "cell_type": "code",
      "source": [
        "for xcol in cols:\n",
        "  for ycol in cols:\n",
        "    if xcol != ycol:\n",
        "      val = df[xcol].corr(df[ycol])\n",
        "      print(f\"{xcol} corr: {ycol} : {val}\")"
      ],
      "metadata": {
        "colab": {
          "base_uri": "https://localhost:8080/"
        },
        "id": "0NfGFb6SJ9_j",
        "outputId": "2feadcd1-93a6-44d8-99ec-4a5c2e75e58b"
      },
      "execution_count": 50,
      "outputs": [
        {
          "output_type": "stream",
          "name": "stdout",
          "text": [
            "Rank corr: height : 0.07987435670454987\n",
            "Rank corr: Age : -0.016461203669938074\n",
            "Rank corr: Wins : -0.07984825510946143\n",
            "Rank corr: Nominations : -0.02215179847796258\n",
            "height corr: Rank : 0.07987435670454987\n",
            "height corr: Age : 0.2712166449758759\n",
            "height corr: Wins : 0.22730264896738242\n",
            "height corr: Nominations : 0.24791394557039365\n",
            "Age corr: Rank : -0.016461203669938074\n",
            "Age corr: height : 0.27121664497587594\n",
            "Age corr: Wins : 0.25485668775002684\n",
            "Age corr: Nominations : 0.16117342270117346\n",
            "Wins corr: Rank : -0.07984825510946145\n",
            "Wins corr: height : 0.22730264896738242\n",
            "Wins corr: Age : 0.25485668775002684\n",
            "Wins corr: Nominations : 0.8920396736345838\n",
            "Nominations corr: Rank : -0.02215179847796258\n",
            "Nominations corr: height : 0.24791394557039365\n",
            "Nominations corr: Age : 0.1611734227011735\n",
            "Nominations corr: Wins : 0.8920396736345838\n"
          ]
        }
      ]
    },
    {
      "cell_type": "code",
      "source": [
        "X = np.array(df['Wins'])\n",
        "y = np.array(df['Nominations'])\n",
        "\n",
        "X = X.reshape(-1, 1)\n",
        "y = y.reshape(-1, 1)\n",
        "\n",
        "X_train, X_test, y_train, y_test = train_test_split(X, y, test_size=0.8, random_state=997)\n",
        "lr = LinearRegression()\n",
        "lr.fit(X_train, y_train)"
      ],
      "metadata": {
        "colab": {
          "base_uri": "https://localhost:8080/",
          "height": 75
        },
        "id": "ikkxdTTVLUa0",
        "outputId": "b529e4fd-7854-4eff-f281-8a9d30cc4c3b"
      },
      "execution_count": 53,
      "outputs": [
        {
          "output_type": "execute_result",
          "data": {
            "text/plain": [
              "LinearRegression()"
            ],
            "text/html": [
              "<style>#sk-container-id-5 {color: black;background-color: white;}#sk-container-id-5 pre{padding: 0;}#sk-container-id-5 div.sk-toggleable {background-color: white;}#sk-container-id-5 label.sk-toggleable__label {cursor: pointer;display: block;width: 100%;margin-bottom: 0;padding: 0.3em;box-sizing: border-box;text-align: center;}#sk-container-id-5 label.sk-toggleable__label-arrow:before {content: \"▸\";float: left;margin-right: 0.25em;color: #696969;}#sk-container-id-5 label.sk-toggleable__label-arrow:hover:before {color: black;}#sk-container-id-5 div.sk-estimator:hover label.sk-toggleable__label-arrow:before {color: black;}#sk-container-id-5 div.sk-toggleable__content {max-height: 0;max-width: 0;overflow: hidden;text-align: left;background-color: #f0f8ff;}#sk-container-id-5 div.sk-toggleable__content pre {margin: 0.2em;color: black;border-radius: 0.25em;background-color: #f0f8ff;}#sk-container-id-5 input.sk-toggleable__control:checked~div.sk-toggleable__content {max-height: 200px;max-width: 100%;overflow: auto;}#sk-container-id-5 input.sk-toggleable__control:checked~label.sk-toggleable__label-arrow:before {content: \"▾\";}#sk-container-id-5 div.sk-estimator input.sk-toggleable__control:checked~label.sk-toggleable__label {background-color: #d4ebff;}#sk-container-id-5 div.sk-label input.sk-toggleable__control:checked~label.sk-toggleable__label {background-color: #d4ebff;}#sk-container-id-5 input.sk-hidden--visually {border: 0;clip: rect(1px 1px 1px 1px);clip: rect(1px, 1px, 1px, 1px);height: 1px;margin: -1px;overflow: hidden;padding: 0;position: absolute;width: 1px;}#sk-container-id-5 div.sk-estimator {font-family: monospace;background-color: #f0f8ff;border: 1px dotted black;border-radius: 0.25em;box-sizing: border-box;margin-bottom: 0.5em;}#sk-container-id-5 div.sk-estimator:hover {background-color: #d4ebff;}#sk-container-id-5 div.sk-parallel-item::after {content: \"\";width: 100%;border-bottom: 1px solid gray;flex-grow: 1;}#sk-container-id-5 div.sk-label:hover label.sk-toggleable__label {background-color: #d4ebff;}#sk-container-id-5 div.sk-serial::before {content: \"\";position: absolute;border-left: 1px solid gray;box-sizing: border-box;top: 0;bottom: 0;left: 50%;z-index: 0;}#sk-container-id-5 div.sk-serial {display: flex;flex-direction: column;align-items: center;background-color: white;padding-right: 0.2em;padding-left: 0.2em;position: relative;}#sk-container-id-5 div.sk-item {position: relative;z-index: 1;}#sk-container-id-5 div.sk-parallel {display: flex;align-items: stretch;justify-content: center;background-color: white;position: relative;}#sk-container-id-5 div.sk-item::before, #sk-container-id-5 div.sk-parallel-item::before {content: \"\";position: absolute;border-left: 1px solid gray;box-sizing: border-box;top: 0;bottom: 0;left: 50%;z-index: -1;}#sk-container-id-5 div.sk-parallel-item {display: flex;flex-direction: column;z-index: 1;position: relative;background-color: white;}#sk-container-id-5 div.sk-parallel-item:first-child::after {align-self: flex-end;width: 50%;}#sk-container-id-5 div.sk-parallel-item:last-child::after {align-self: flex-start;width: 50%;}#sk-container-id-5 div.sk-parallel-item:only-child::after {width: 0;}#sk-container-id-5 div.sk-dashed-wrapped {border: 1px dashed gray;margin: 0 0.4em 0.5em 0.4em;box-sizing: border-box;padding-bottom: 0.4em;background-color: white;}#sk-container-id-5 div.sk-label label {font-family: monospace;font-weight: bold;display: inline-block;line-height: 1.2em;}#sk-container-id-5 div.sk-label-container {text-align: center;}#sk-container-id-5 div.sk-container {/* jupyter's `normalize.less` sets `[hidden] { display: none; }` but bootstrap.min.css set `[hidden] { display: none !important; }` so we also need the `!important` here to be able to override the default hidden behavior on the sphinx rendered scikit-learn.org. See: https://github.com/scikit-learn/scikit-learn/issues/21755 */display: inline-block !important;position: relative;}#sk-container-id-5 div.sk-text-repr-fallback {display: none;}</style><div id=\"sk-container-id-5\" class=\"sk-top-container\"><div class=\"sk-text-repr-fallback\"><pre>LinearRegression()</pre><b>In a Jupyter environment, please rerun this cell to show the HTML representation or trust the notebook. <br />On GitHub, the HTML representation is unable to render, please try loading this page with nbviewer.org.</b></div><div class=\"sk-container\" hidden><div class=\"sk-item\"><div class=\"sk-estimator sk-toggleable\"><input class=\"sk-toggleable__control sk-hidden--visually\" id=\"sk-estimator-id-5\" type=\"checkbox\" checked><label for=\"sk-estimator-id-5\" class=\"sk-toggleable__label sk-toggleable__label-arrow\">LinearRegression</label><div class=\"sk-toggleable__content\"><pre>LinearRegression()</pre></div></div></div></div></div>"
            ]
          },
          "metadata": {},
          "execution_count": 53
        }
      ]
    },
    {
      "cell_type": "code",
      "source": [
        "y_pred = lr.predict(X_test)\n",
        "plt.scatter(X_test, y_test, color='b')\n",
        "plt.plot(X_test, y_pred, color='r')"
      ],
      "metadata": {
        "colab": {
          "base_uri": "https://localhost:8080/",
          "height": 447
        },
        "id": "dJsK2vyGMGyk",
        "outputId": "49d7cfa2-b975-40f5-aa50-062508a3c989"
      },
      "execution_count": 54,
      "outputs": [
        {
          "output_type": "execute_result",
          "data": {
            "text/plain": [
              "[<matplotlib.lines.Line2D at 0x797adde1a560>]"
            ]
          },
          "metadata": {},
          "execution_count": 54
        },
        {
          "output_type": "display_data",
          "data": {
            "text/plain": [
              "<Figure size 640x480 with 1 Axes>"
            ],
            "image/png": "[encoded data removed]"
          },
          "metadata": {}
        }
      ]
    },
    {
      "cell_type": "code",
      "source": [
        "from sklearn.metrics import mean_absolute_error, mean_squared_error\n",
        "\n",
        "mae = mean_absolute_error(y_true=y_test,\n",
        "                          y_pred=y_pred)\n",
        "mse = mean_squared_error(y_true=y_test,\n",
        "                          y_pred=y_pred)\n",
        "rmse = mean_squared_error(y_true=y_test,\n",
        "                          y_pred=y_pred, squared=False)\n",
        "print(\"MAE:\", mae)\n",
        "print(\"MSE:\", mse)\n",
        "print(\"RMSE:\", rmse)"
      ],
      "metadata": {
        "id": "IPkCkqypMam1",
        "outputId": "4ca20ba7-2766-4f68-df5c-aa41357843f0",
        "colab": {
          "base_uri": "https://localhost:8080/"
        }
      },
      "execution_count": 55,
      "outputs": [
        {
          "output_type": "stream",
          "name": "stdout",
          "text": [
            "MAE: 18.113546031922358\n",
            "MSE: 701.0545175353104\n",
            "RMSE: 26.477434119176095\n"
          ]
        }
      ]
    }
  ]
}